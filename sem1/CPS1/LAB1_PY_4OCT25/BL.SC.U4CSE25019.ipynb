{
 "cells": [
  {
   "attachments": {},
   "cell_type": "markdown",
   "id": "abcfb9d7-df3a-4da8-aaca-f51455faf553",
   "metadata": {},
   "source": [
    "\n",
    "<span style=\"color:#C71585; font-size:30px;\">PYTHON LAB 1</span><br>\n",
    "<span style=\"color:#C71585\">KAVYA BAJAJ</span><br>\n",
    "<span style=\"color:#C71585\">BL.SC.U4CSE25019</span>\n",
    "\n",
    "\n",
    "\n",
    "\n"
   ]
  },
  {
   "cell_type": "markdown",
   "id": "7ef242c9-f719-4d12-aead-1c1da295ab23",
   "metadata": {},
   "source": [
    "1)1 write a program to check +ve -ve 0"
   ]
  },
  {
   "cell_type": "code",
   "execution_count": 3,
   "id": "42f7ed3e-cfd9-45db-abfc-68b4c6fc686c",
   "metadata": {},
   "outputs": [
    {
     "name": "stdin",
     "output_type": "stream",
     "text": [
      "enter your number: 100\n"
     ]
    },
    {
     "name": "stdout",
     "output_type": "stream",
     "text": [
      "positive\n"
     ]
    }
   ],
   "source": [
    "number=int(input(\"enter your number:\"))\n",
    "if number>0:\n",
    "    print(\"positive\")\n",
    "elif number==0:\n",
    "    print(\"zero\")\n",
    "else:\n",
    "    print(\"negetive\")"
   ]
  },
  {
   "cell_type": "markdown",
   "id": "a689920b-6e1a-411a-8ca4-f4893abf802e",
   "metadata": {},
   "source": [
    "2)CHECK if a is factor of b \n"
   ]
  },
  {
   "cell_type": "code",
   "execution_count": 5,
   "id": "43acc5ea-2d40-4e3b-a4c1-7c3b5019a13e",
   "metadata": {},
   "outputs": [
    {
     "name": "stdin",
     "output_type": "stream",
     "text": [
      "enter your number: 44\n",
      "enter your number: 88\n"
     ]
    },
    {
     "name": "stdout",
     "output_type": "stream",
     "text": [
      "a is a factor of b\n"
     ]
    }
   ],
   "source": [
    "a=int(input(\"enter your number:\"))\n",
    "b=int(input(\"enter your number:\"))\n",
    "\n",
    "if b%a==0:\n",
    "    print(\"a is a factor of b\")\n",
    "else:\n",
    "    print(\"a is not factor of b\")"
   ]
  },
  {
   "cell_type": "markdown",
   "id": "f9da4853-17ac-4a9a-ac33-71e06016066a",
   "metadata": {},
   "source": [
    "3)JUDGEING HUMANS\n"
   ]
  },
  {
   "cell_type": "code",
   "execution_count": 9,
   "id": "3cc83896-c34d-4c61-a7b3-0497878a2b09",
   "metadata": {},
   "outputs": [
    {
     "name": "stdin",
     "output_type": "stream",
     "text": [
      "enter marks u kiddo  99\n"
     ]
    },
    {
     "name": "stdout",
     "output_type": "stream",
     "text": [
      "A ! - excellent \n"
     ]
    }
   ],
   "source": [
    "m=int(input(\"enter marks u kiddo \"))\n",
    "\n",
    "if m>90:\n",
    "    print(\"A ! - excellent \")\n",
    "elif (m>70) or (m==90):\n",
    "    print(\"B !-GOOD JOB\")\n",
    "elif (m>50) or (m==70):    \n",
    "    print(\"C\")\n",
    "else:\n",
    "    print(\"F\")"
   ]
  },
  {
   "cell_type": "markdown",
   "id": "2fa57d8b-e902-4cad-98d6-839d5eb32f19",
   "metadata": {},
   "source": [
    "4)4 discount\n"
   ]
  },
  {
   "cell_type": "code",
   "execution_count": 10,
   "id": "e776332f-243d-4866-9674-963c75acbca1",
   "metadata": {},
   "outputs": [
    {
     "name": "stdin",
     "output_type": "stream",
     "text": [
      "enter amt spent; 4000\n"
     ]
    },
    {
     "name": "stdout",
     "output_type": "stream",
     "text": [
      "400.0  INR IS YOUR DISOUNT\n",
      "U HAVE TO PAY : 3600.0 rupees\n"
     ]
    }
   ],
   "source": [
    "amt=int(input(\"enter amt spent;\"))\n",
    "\n",
    "if amt<=1000:\n",
    "    dis=amt*0.05\n",
    "elif amt<=5000:\n",
    "    dis=amt*0.1\n",
    "else:\n",
    "    dis=amt*0.2\n",
    "print(dis,\" INR IS YOUR DISOUNT\")  \n",
    "\n",
    "pay=amt-dis\n",
    "print(\"U HAVE TO PAY :\",pay,\"rupees\")"
   ]
  },
  {
   "cell_type": "markdown",
   "id": "893fd7b1-5fea-402d-942f-69316509aa28",
   "metadata": {},
   "source": [
    "5)  PERFET NUMBER"
   ]
  },
  {
   "cell_type": "code",
   "execution_count": 11,
   "id": "e7276602-b621-4592-90dc-1abd672c0bc8",
   "metadata": {},
   "outputs": [
    {
     "name": "stdin",
     "output_type": "stream",
     "text": [
      "enter your number: 6\n"
     ]
    },
    {
     "name": "stdout",
     "output_type": "stream",
     "text": [
      "perfect\n"
     ]
    }
   ],
   "source": [
    "a=int(input(\"enter your number:\"))\n",
    "i=1\n",
    "s=0\n",
    "while i<a:\n",
    "    if a%i==0:\n",
    "        s=s+i\n",
    "        i=i+1\n",
    "    else:\n",
    "        i=i+1\n",
    "        \n",
    "if s==a:\n",
    "    print(\"perfect\")\n",
    "else:\n",
    "    print(\"not perfect\")\n",
    "        "
   ]
  },
  {
   "cell_type": "markdown",
   "id": "330ccacb-2ef4-4230-9bfa-6dd8d5aa0dc9",
   "metadata": {},
   "source": [
    "6)sum of digits"
   ]
  },
  {
   "cell_type": "code",
   "execution_count": 12,
   "id": "3726aeac-d2e7-4685-ba68-194673cf8eb8",
   "metadata": {},
   "outputs": [
    {
     "name": "stdin",
     "output_type": "stream",
     "text": [
      "enter num 123\n"
     ]
    },
    {
     "name": "stdout",
     "output_type": "stream",
     "text": [
      "6\n"
     ]
    }
   ],
   "source": [
    "n=int(input(\"enter num\"))\n",
    "s=0\n",
    "\n",
    "while n>0:\n",
    "    d=n%10\n",
    "    s=s+d\n",
    "    n=n//10\n",
    "print(s)  "
   ]
  },
  {
   "cell_type": "markdown",
   "id": "ac14cb65-6b7e-4348-9dde-b07abfe60621",
   "metadata": {},
   "source": [
    "7 armstrong number"
   ]
  },
  {
   "cell_type": "code",
   "execution_count": 13,
   "id": "45b2a0a3-5168-4695-ac5f-0f25cc71a4cf",
   "metadata": {},
   "outputs": [
    {
     "name": "stdin",
     "output_type": "stream",
     "text": [
      "enter num 153\n"
     ]
    },
    {
     "name": "stdout",
     "output_type": "stream",
     "text": [
      "armstrong\n"
     ]
    }
   ],
   "source": [
    "n=int(input(\"enter num\"))\n",
    "s=0\n",
    "temp=n\n",
    "\n",
    "while n>0:\n",
    "    d=n%10\n",
    "    s=s+d**3\n",
    "    n=n//10\n",
    "if s==temp:\n",
    "    print(\"armstrong\")\n",
    "else:\n",
    "    print(\"not armstrong\")"
   ]
  },
  {
   "cell_type": "markdown",
   "id": "043690ff-773c-485f-b846-24fee8d0a7be",
   "metadata": {},
   "source": [
    "8)count no of digits"
   ]
  },
  {
   "cell_type": "code",
   "execution_count": 14,
   "id": "8b93c692-b0ed-4e9d-b4b4-aa29631ffc6f",
   "metadata": {},
   "outputs": [
    {
     "name": "stdin",
     "output_type": "stream",
     "text": [
      "enter your num: 666\n"
     ]
    },
    {
     "name": "stdout",
     "output_type": "stream",
     "text": [
      "1\n",
      "2\n",
      "3\n"
     ]
    }
   ],
   "source": [
    "n=int(input(\"enter your num:\"))\n",
    "c=0\n",
    "while n>0:\n",
    "    c=c+1\n",
    "    n=n//10\n",
    "    print(c)\n"
   ]
  },
  {
   "cell_type": "markdown",
   "id": "cef48be2-53c1-4c92-a01c-a9015ef7c6d9",
   "metadata": {},
   "source": [
    "9)reverse of a number"
   ]
  },
  {
   "cell_type": "code",
   "execution_count": 15,
   "id": "53f28ebf-45a2-4023-b8ca-0fae1b7f3c34",
   "metadata": {},
   "outputs": [
    {
     "name": "stdin",
     "output_type": "stream",
     "text": [
      "enter no. : 563\n"
     ]
    },
    {
     "name": "stdout",
     "output_type": "stream",
     "text": [
      "3\n",
      "36\n",
      "365\n"
     ]
    }
   ],
   "source": [
    "n=int(input(\"enter no. :\"))\n",
    "rev=0\n",
    "while n>0:\n",
    "    d=n%10\n",
    "    rev=rev*10+d\n",
    "    n=n//10\n",
    "    print(rev)"
   ]
  },
  {
   "cell_type": "markdown",
   "id": "edafd996-61a3-4031-95fa-270818380a86",
   "metadata": {},
   "source": [
    "10)PALINDROME"
   ]
  },
  {
   "cell_type": "code",
   "execution_count": 16,
   "id": "abb20a83-655b-4c4d-bcaf-94428d538d35",
   "metadata": {},
   "outputs": [
    {
     "name": "stdin",
     "output_type": "stream",
     "text": [
      "enter no : 12321\n"
     ]
    },
    {
     "name": "stdout",
     "output_type": "stream",
     "text": [
      "palindrome\n"
     ]
    }
   ],
   "source": [
    "n=int(input(\"enter no :\"))\n",
    "temp=n\n",
    "sum=0\n",
    "rev=0\n",
    "while n>0:\n",
    "    d=n%10\n",
    "    rev=rev*10+d\n",
    "    n=n//10\n",
    "if temp==rev:\n",
    "    print(\"palindrome\")\n",
    "else:\n",
    "    print(\"not palindrome\")"
   ]
  },
  {
   "cell_type": "markdown",
   "id": "7e930764-2f91-40d2-8efb-c26a5bb22299",
   "metadata": {},
   "source": [
    " 11 for loop sum of n terms\n"
   ]
  },
  {
   "cell_type": "code",
   "execution_count": 18,
   "id": "8460b37a-13ed-4b82-aedf-0cce091cc1d6",
   "metadata": {},
   "outputs": [
    {
     "name": "stdin",
     "output_type": "stream",
     "text": [
      "enter no: 5\n"
     ]
    },
    {
     "name": "stdout",
     "output_type": "stream",
     "text": [
      "15\n"
     ]
    }
   ],
   "source": [
    "sum=0\n",
    "n=int(input(\"enter no:\"))\n",
    "for i in range(1,n+1):\n",
    "    sum=sum+i\n",
    "    \n",
    "print(sum)"
   ]
  },
  {
   "cell_type": "markdown",
   "id": "f31930ec-fe34-4df1-b7fe-886320725de9",
   "metadata": {},
   "source": [
    "12 check if entered no is prime "
   ]
  },
  {
   "cell_type": "code",
   "execution_count": 19,
   "id": "8611e2f7-fb3e-4b94-858a-f7b948f9a65f",
   "metadata": {},
   "outputs": [
    {
     "name": "stdin",
     "output_type": "stream",
     "text": [
      "enter no: 77\n"
     ]
    },
    {
     "name": "stdout",
     "output_type": "stream",
     "text": [
      "not prime\n"
     ]
    }
   ],
   "source": [
    "n=int(input(\"enter no:\"))\n",
    "count=0\n",
    "for i in range(1,n):\n",
    "    if n%i==0:\n",
    "        count=count+1\n",
    "    \n",
    "if count==1:\n",
    "    print(\"prime\")\n",
    "else:\n",
    "    print(\"not prime\")"
   ]
  },
  {
   "cell_type": "markdown",
   "id": "531c5a5d-1355-42fb-aa2a-1b97ad7415d7",
   "metadata": {},
   "source": [
    "13) PRIME NO BW M ,N"
   ]
  },
  {
   "cell_type": "code",
   "execution_count": 20,
   "id": "e05dc284-53d0-463f-9540-c90689fb62bb",
   "metadata": {},
   "outputs": [
    {
     "name": "stdin",
     "output_type": "stream",
     "text": [
      "enter no: 2\n",
      "enter no: 10\n"
     ]
    },
    {
     "name": "stdout",
     "output_type": "stream",
     "text": [
      "2\n",
      "4\n",
      "6\n",
      "8\n",
      "10\n"
     ]
    }
   ],
   "source": [
    "m=int(input(\"enter no:\"))\n",
    "n=int(input(\"enter no:\"))\n",
    "for i in range(m,n+1,2):\n",
    "    print(i)"
   ]
  },
  {
   "cell_type": "code",
   "execution_count": 21,
   "id": "2404407c-eec4-4b68-ba9b-2cbe993b8b2a",
   "metadata": {},
   "outputs": [
    {
     "name": "stdin",
     "output_type": "stream",
     "text": [
      "Enter the number : 33\n"
     ]
    },
    {
     "name": "stdout",
     "output_type": "stream",
     "text": [
      "Not prime\n"
     ]
    }
   ],
   "source": [
    "# To check if the entered number is prime or not using break \n",
    "\n",
    "\n",
    "n=int(input(\"Enter the number :\"))\n",
    "flag=0\n",
    "for i in range (2,n):\n",
    "    if n%i==0:\n",
    "        flag=1\n",
    "        break\n",
    "if flag==0:\n",
    "    print(\"Prime\")\n",
    "else:\n",
    "    print(\"Not prime\")"
   ]
  },
  {
   "cell_type": "code",
   "execution_count": 22,
   "id": "1ec100a7-3a79-497d-8480-30466cda26a0",
   "metadata": {},
   "outputs": [
    {
     "name": "stdin",
     "output_type": "stream",
     "text": [
      "Enter the first number:  1\n",
      "Enter the second number:  10\n"
     ]
    },
    {
     "name": "stdout",
     "output_type": "stream",
     "text": [
      "1\n",
      "3\n",
      "5\n",
      "7\n",
      "9\n"
     ]
    }
   ],
   "source": [
    "# To display odd numbers from m to n\n",
    "\n",
    "\n",
    "m=int(input(\"Enter the first number: \"))\n",
    "n=int(input(\"Enter the second number: \"))\n",
    "for i in range(m,n+1):\n",
    "    if i%2!=0:\n",
    "        print(i)"
   ]
  },
  {
   "cell_type": "code",
   "execution_count": 24,
   "id": "acd75fcf-266b-437d-898e-f626f278da25",
   "metadata": {},
   "outputs": [
    {
     "name": "stdin",
     "output_type": "stream",
     "text": [
      "Enter the number:  22\n"
     ]
    },
    {
     "name": "stdout",
     "output_type": "stream",
     "text": [
      "1124000727777607680000\n"
     ]
    }
   ],
   "source": [
    "# To find the factorial of the entered number\n",
    "\n",
    "n=int(input(\"Enter the number: \"))\n",
    "multiply=1\n",
    "for i in range(1,n+1):\n",
    "    multiply*=i\n",
    "print(multiply)\n",
    "    "
   ]
  },
  {
   "cell_type": "code",
   "execution_count": 32,
   "id": "7d054394-c0fa-4881-bb44-cb84e8b27449",
   "metadata": {},
   "outputs": [
    {
     "name": "stdin",
     "output_type": "stream",
     "text": [
      "Enter the number:  10\n"
     ]
    },
    {
     "name": "stdout",
     "output_type": "stream",
     "text": [
      "1 x 10 = 10\n",
      "2 x 10 = 20\n",
      "3 x 10 = 30\n",
      "4 x 10 = 40\n",
      "5 x 10 = 50\n",
      "6 x 10 = 60\n",
      "7 x 10 = 70\n",
      "8 x 10 = 80\n",
      "9 x 10 = 90\n",
      "10 x 10 = 100\n"
     ]
    }
   ],
   "source": [
    "# Displays the table of the entered number\n",
    "\n",
    "\n",
    "n=int(input(\"Enter the number: \"))\n",
    "i=1\n",
    "while i<11:\n",
    "    mul=i*n\n",
    "    print(i,\"x\",n,\"=\",mul)\n",
    "    i=i+1\n",
    "    "
   ]
  },
  {
   "cell_type": "code",
   "execution_count": 33,
   "id": "1898303a-bd24-4891-a3b5-1f2d47780a95",
   "metadata": {},
   "outputs": [
    {
     "name": "stdin",
     "output_type": "stream",
     "text": [
      "Enter a number:  6\n"
     ]
    },
    {
     "name": "stdout",
     "output_type": "stream",
     "text": [
      "hello world\n",
      "hello world\n",
      "hello world\n",
      "hello world\n",
      "hello world\n",
      "hello world\n"
     ]
    }
   ],
   "source": [
    "n = int(input(\"Enter a number: \"))\n",
    "for i in range(n):\n",
    "    print(\"hello world\")"
   ]
  },
  {
   "cell_type": "code",
   "execution_count": 34,
   "id": "9f6383bc-a3a9-4ab7-933d-5de405a042c6",
   "metadata": {},
   "outputs": [
    {
     "name": "stdout",
     "output_type": "stream",
     "text": [
      "0\n",
      "1\n",
      "2\n",
      "3\n",
      "4\n",
      "5\n",
      "6\n"
     ]
    }
   ],
   "source": [
    "for i in range(10):\n",
    "    if i==7:\n",
    "        break\n",
    "    print(i)"
   ]
  },
  {
   "cell_type": "code",
   "execution_count": null,
   "id": "2bb4a561-0c31-4035-947c-fffa3c497421",
   "metadata": {},
   "outputs": [],
   "source": []
  }
 ],
 "metadata": {
  "kernelspec": {
   "display_name": "Python 3 (ipykernel)",
   "language": "python",
   "name": "python3"
  },
  "language_info": {
   "codemirror_mode": {
    "name": "ipython",
    "version": 3
   },
   "file_extension": ".py",
   "mimetype": "text/x-python",
   "name": "python",
   "nbconvert_exporter": "python",
   "pygments_lexer": "ipython3",
   "version": "3.13.7"
  }
 },
 "nbformat": 4,
 "nbformat_minor": 5
}
